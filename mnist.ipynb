{
  "nbformat": 4,
  "nbformat_minor": 0,
  "metadata": {
    "colab": {
      "name": "mnist.ipynb",
      "version": "0.3.2",
      "provenance": [],
      "collapsed_sections": [],
      "include_colab_link": true
    },
    "kernelspec": {
      "name": "python3",
      "display_name": "Python 3"
    }
  },
  "cells": [
    {
      "cell_type": "markdown",
      "metadata": {
        "id": "view-in-github",
        "colab_type": "text"
      },
      "source": [
        "<a href=\"https://colab.research.google.com/github/aryachiranjeev/MNIST-dataset/blob/master/mnist.ipynb\" target=\"_parent\"><img src=\"https://colab.research.google.com/assets/colab-badge.svg\" alt=\"Open In Colab\"/></a>"
      ]
    },
    {
      "metadata": {
        "id": "MsHUT6j2RCZ8",
        "colab_type": "code",
        "colab": {}
      },
      "cell_type": "code",
      "source": [
        "import tensorflow as tf\n",
        "import numpy as np\n",
        "import matplotlib.pyplot as plt"
      ],
      "execution_count": 0,
      "outputs": []
    },
    {
      "metadata": {
        "id": "h3oVpEAwiY_h",
        "colab_type": "code",
        "outputId": "d34ec02a-1b29-4ad8-96ec-f53cfc93f1e3",
        "colab": {
          "base_uri": "https://localhost:8080/",
          "height": 34
        }
      },
      "cell_type": "code",
      "source": [
        "import os\n",
        "work_dir = \"/content/TensorFlow-Tutorials/\"\n",
        "if os.getcwd() != work_dir:\n",
        "    !git clone https://github.com/Hvass-Labs/TensorFlow-Tutorials.git\n",
        "os.chdir(work_dir)"
      ],
      "execution_count": 0,
      "outputs": [
        {
          "output_type": "stream",
          "text": [
            "fatal: destination path 'TensorFlow-Tutorials' already exists and is not an empty directory.\n"
          ],
          "name": "stdout"
        }
      ]
    },
    {
      "metadata": {
        "id": "CtNFDE1Wj03d",
        "colab_type": "code",
        "colab": {}
      },
      "cell_type": "code",
      "source": [
        "#convolution layer 1\n",
        "filter_size1=5\n",
        "num_filters1=16\n",
        "#convolution layer 2\n",
        "filter_size2=5\n",
        "num_filters2=36\n",
        "#fully_connected layers\n",
        "fc_layer_size=128"
      ],
      "execution_count": 0,
      "outputs": []
    },
    {
      "metadata": {
        "id": "mOUWt6e5S3e2",
        "colab_type": "code",
        "colab": {}
      },
      "cell_type": "code",
      "source": [
        "from mnist import MNIST\n",
        "data = MNIST(data_dir=\"data/MNIST/\")"
      ],
      "execution_count": 0,
      "outputs": []
    },
    {
      "metadata": {
        "id": "Ca04Aq4gTF7o",
        "colab_type": "code",
        "outputId": "d97f06a7-88a8-44ed-8440-dbd6e59b93ca",
        "colab": {
          "base_uri": "https://localhost:8080/",
          "height": 69
        }
      },
      "cell_type": "code",
      "source": [
        "\n",
        "print(\"Training-set:{}\".format(data.num_train))\n",
        "print(\"Validation-set:t{}\".format(data.num_val))\n",
        "print(\"Test-set:{}\".format(data.num_test))"
      ],
      "execution_count": 0,
      "outputs": [
        {
          "output_type": "stream",
          "text": [
            "Training-set:55000\n",
            "Validation-set:t5000\n",
            "Test-set:10000\n"
          ],
          "name": "stdout"
        }
      ]
    },
    {
      "metadata": {
        "id": "bmQ4cxnqjmnZ",
        "colab_type": "code",
        "outputId": "31d20e73-12e3-4c9e-88e9-0f7a451f88d0",
        "colab": {
          "base_uri": "https://localhost:8080/",
          "height": 104
        }
      },
      "cell_type": "code",
      "source": [
        "img_size=data.img_size\n",
        "img_size_flat=data.img_size_flat\n",
        "img_shape=data.img_shape\n",
        "num_classes=data.num_classes\n",
        "num_channels=data.num_channels\n",
        "print(\"img_size=\",img_size)\n",
        "print(\"img_size_flat=\",img_size_flat)\n",
        "print(\"img_shape=\",img_shape)\n",
        "print(\"num_channels=\",num_channels)\n",
        "print(\"num_classes=\",num_classes)"
      ],
      "execution_count": 0,
      "outputs": [
        {
          "output_type": "stream",
          "text": [
            "img_size= 28\n",
            "img_size_flat= 784\n",
            "img_shape= (28, 28)\n",
            "num_channels= 1\n",
            "num_classes= 10\n"
          ],
          "name": "stdout"
        }
      ]
    },
    {
      "metadata": {
        "id": "J25q_9xXmG7h",
        "colab_type": "code",
        "colab": {}
      },
      "cell_type": "code",
      "source": [
        "def plot_images(images,cls_true,cls_pred=None):\n",
        "  assert len(images) == len(cls_true)==9\n",
        "  fig,axes=plt.subplots(3,3)\n",
        "  fig.subplots_adjust(hspace=0.5,wspace=0.5)\n",
        "  for i,ax in enumerate(axes.flat):\n",
        "    ax.imshow(images[i].reshape(img_shape),cmap='gray')\n",
        "    if cls_pred is None:\n",
        "      x_label=\"true:{0}\".format(cls_true[i])\n",
        "    else:\n",
        "        x_label=\"true:{0},pred:{1}\".format(cls_true[i],cls_pred[i])\n",
        "    ax.set_xlabel(x_label)\n",
        "    ax.set_xticks([])\n",
        "    ax.set_yticks([])\n",
        "      \n",
        "  plt.show()  "
      ],
      "execution_count": 0,
      "outputs": []
    },
    {
      "metadata": {
        "id": "2XKvrw-qpbl-",
        "colab_type": "code",
        "outputId": "76fc743b-65c5-4801-fdcd-a21e3cb71a3d",
        "colab": {
          "base_uri": "https://localhost:8080/",
          "height": 344
        }
      },
      "cell_type": "code",
      "source": [
        "images=data.x_train[0:9]\n",
        "cls_true=(data.y_train[0:9])\n",
        "plot_images(images,cls_true)"
      ],
      "execution_count": 0,
      "outputs": [
        {
          "output_type": "display_data",
          "data": {
            "image/png": "[encoded data removed]",
            "text/plain": [
              "<Figure size 576x396 with 9 Axes>"
            ]
          },
          "metadata": {
            "tags": []
          }
        }
      ]
    },
    {
      "metadata": {
        "id": "tnu20fcDrWn1",
        "colab_type": "code",
        "colab": {}
      },
      "cell_type": "code",
      "source": [
        "#creating weight and bias variables\n",
        "def new_weights(shape):\n",
        "  return tf.Variable(tf.truncated_normal(shape,stddev=0.05))\n",
        "\n",
        "def new_biases(length):\n",
        "  return tf.Variable(tf.constant(0.05,shape=[length]))\n",
        "  \n"
      ],
      "execution_count": 0,
      "outputs": []
    },
    {
      "metadata": {
        "id": "j1l3ot_HtKuy",
        "colab_type": "code",
        "colab": {}
      },
      "cell_type": "code",
      "source": [
        "#create convolution and maxpool layer structure\n",
        "\n",
        "def new_conv_layer(input,num_input_channels,filter_size,num_filters,use_pooling=True):\n",
        "  \n",
        "  #shape of filters\n",
        "  shape=[filter_size,filter_size,num_input_channels,num_filters]\n",
        "  \n",
        "  #calling and bias\n",
        "  \n",
        "  weights=new_weights(shape=shape)\n",
        "  biases=new_biases(length=num_filters)\n",
        "  \n",
        "  #creating structure of conv_layer with no padding=same,stride(1,1)\n",
        "  \n",
        "  layer=tf.nn.conv2d(input=input,filter=weights,strides=[1,1,1,1],padding='SAME')\n",
        "  \n",
        "  #adding bias to layer\n",
        "  layer=layer+biases\n",
        "  \n",
        "  #pooling\n",
        "  if use_pooling:\n",
        "    layer=tf.nn.max_pool(value=layer,ksize=[1,2,3,1],strides=[1,2,2,1],padding='SAME')\n",
        "    \n",
        "  #relu(to remove -ve terms)  \n",
        "  layer=tf.nn.relu(layer)\n",
        "  \n",
        "  return layer,weights\n",
        "  "
      ],
      "execution_count": 0,
      "outputs": []
    },
    {
      "metadata": {
        "id": "eWfqxdLSwY7c",
        "colab_type": "code",
        "colab": {}
      },
      "cell_type": "code",
      "source": [
        "#flattening layer\n",
        "\n",
        "def flatten_layer(layer):\n",
        "  layer_shape=layer.get_shape()\n",
        "  \n",
        "  #layer_shape=[num_input_chanels,img_height,img_width,num_output_channels]\n",
        "  \n",
        "  print(\"layer_shape=\",layer_shape)\n",
        "  \n",
        "  #num_fateures=img_height*img_width*num_output_channels followed by num_elements() to find no. of elements\n",
        "  \n",
        "  num_features=layer_shape[1:4].num_elements()\n",
        "  \n",
        "  # Reshape the layer to [num_images, num_features].\n",
        "  # Note that we just set the size of the second dimension\n",
        "  # to num_features and the size of the first dimension to -1\n",
        "  # which means the size in that dimension is calculated\n",
        "  # so the total size of the tensor is unchanged from the reshaping.\n",
        "  \n",
        "  layer_flat=tf.reshape(layer,[-1,num_features])\n",
        "  \n",
        "  # The shape of the flattened layer is now:\n",
        "  # [num_images, img_height * img_width * num_channels]\n",
        "    \n",
        "  return layer_flat,num_features\n",
        "    "
      ],
      "execution_count": 0,
      "outputs": []
    },
    {
      "metadata": {
        "id": "QW_BPlOCzkoO",
        "colab_type": "code",
        "colab": {}
      },
      "cell_type": "code",
      "source": [
        "#fc_layer structure\n",
        "\n",
        "def fc_layer(input,num_inputs,num_outputs,use_relu=True):\n",
        "  #creating new weight and biases\n",
        "  weights=new_weights(shape=[num_inputs,num_outputs])\n",
        "  biases=new_biases(length=num_outputs)\n",
        "  \n",
        "  layer=tf.matmul(input,weights)+biases\n",
        "  \n",
        "  if use_relu:\n",
        "    layer=tf.nn.relu(layer)\n",
        "    \n",
        "  return layer"
      ],
      "execution_count": 0,
      "outputs": []
    },
    {
      "metadata": {
        "id": "MMLB-aHq08KX",
        "colab_type": "code",
        "colab": {}
      },
      "cell_type": "code",
      "source": [
        "#placeholders\n",
        "\n",
        "x=tf.placeholder(tf.float32,shape=[None,img_size_flat],name='x')\n",
        "\n",
        "x_image=tf.reshape(x,[-1,img_size,img_size,num_channels]) #reshaping x\n",
        "\n",
        "y_true=tf.placeholder(tf.float32,shape=[None,num_classes],name='y_true') #creating place for true labels,onehot-encoded\n",
        "\n",
        "y_true_cls=tf.argmax(y_true,axis=1) #converting to decimal\n"
      ],
      "execution_count": 0,
      "outputs": []
    },
    {
      "metadata": {
        "id": "_gb2AHoP58YC",
        "colab_type": "code",
        "colab": {}
      },
      "cell_type": "code",
      "source": [
        "#conv1\n",
        "layer_conv1,weights_conv1 =new_conv_layer(input=x_image, num_input_channels=num_channels,filter_size=filter_size1,num_filters=num_filters1,use_pooling=True)\n",
        "     "
      ],
      "execution_count": 0,
      "outputs": []
    },
    {
      "metadata": {
        "id": "wJ-u82tw86Au",
        "colab_type": "code",
        "outputId": "679ea10c-6dd4-49d4-ae2c-2987ccf7eef6",
        "colab": {
          "base_uri": "https://localhost:8080/",
          "height": 52
        }
      },
      "cell_type": "code",
      "source": [
        "print(\"layer_conv1=\",layer_conv1)\n",
        "print(\"weights_conv1=\",weights_conv1)"
      ],
      "execution_count": 0,
      "outputs": [
        {
          "output_type": "stream",
          "text": [
            "layer_conv1= Tensor(\"Relu_6:0\", shape=(?, 14, 14, 16), dtype=float32)\n",
            "weights_conv1= <tf.Variable 'Variable_16:0' shape=(5, 5, 1, 16) dtype=float32_ref>\n"
          ],
          "name": "stdout"
        }
      ]
    },
    {
      "metadata": {
        "id": "7bAn6htG9Uf3",
        "colab_type": "code",
        "colab": {}
      },
      "cell_type": "code",
      "source": [
        "#conv2\n",
        "layer_conv2,weights_conv2= new_conv_layer(input=layer_conv1, num_input_channels=num_filters1, filter_size=filter_size2, num_filters=num_filters2, use_pooling=True)"
      ],
      "execution_count": 0,
      "outputs": []
    },
    {
      "metadata": {
        "id": "RY159r_WK2qC",
        "colab_type": "code",
        "outputId": "0142d05b-b6d8-4031-bbf1-b8c7d397db41",
        "colab": {
          "base_uri": "https://localhost:8080/",
          "height": 52
        }
      },
      "cell_type": "code",
      "source": [
        "print(\"layer_conv2=\",layer_conv2)\n",
        "print(\"weights_conv2=\",weights_conv2)"
      ],
      "execution_count": 0,
      "outputs": [
        {
          "output_type": "stream",
          "text": [
            "layer_conv2= Tensor(\"Relu_7:0\", shape=(?, 7, 7, 36), dtype=float32)\n",
            "weights_conv2= <tf.Variable 'Variable_18:0' shape=(5, 5, 16, 36) dtype=float32_ref>\n"
          ],
          "name": "stdout"
        }
      ]
    },
    {
      "metadata": {
        "id": "Se3tB6dsMBOQ",
        "colab_type": "code",
        "outputId": "c748c3da-b38c-4c4f-8a2f-8585be08beb2",
        "colab": {
          "base_uri": "https://localhost:8080/",
          "height": 34
        }
      },
      "cell_type": "code",
      "source": [
        "#flatten_layer\n",
        "layer_flat, num_features=flatten_layer(layer_conv2)\n"
      ],
      "execution_count": 0,
      "outputs": [
        {
          "output_type": "stream",
          "text": [
            "layer_shape= (?, 7, 7, 36)\n"
          ],
          "name": "stdout"
        }
      ]
    },
    {
      "metadata": {
        "id": "E5kPqyl5NBg-",
        "colab_type": "code",
        "outputId": "706738e2-3b67-4a74-ed0a-9972265fdde4",
        "colab": {
          "base_uri": "https://localhost:8080/",
          "height": 52
        }
      },
      "cell_type": "code",
      "source": [
        "print(\"layer_flat=\",layer_flat)\n",
        "print(\"num_features=\",num_features)"
      ],
      "execution_count": 0,
      "outputs": [
        {
          "output_type": "stream",
          "text": [
            "layer_flat= Tensor(\"Reshape_5:0\", shape=(?, 1764), dtype=float32)\n",
            "num_features= 1764\n"
          ],
          "name": "stdout"
        }
      ]
    },
    {
      "metadata": {
        "id": "zTvJq_kONOGa",
        "colab_type": "code",
        "colab": {}
      },
      "cell_type": "code",
      "source": [
        "#fc1\n",
        "layer_fc1=fc_layer(input=layer_flat,num_inputs=num_features,num_outputs=fc_layer_size,use_relu=True)"
      ],
      "execution_count": 0,
      "outputs": []
    },
    {
      "metadata": {
        "id": "ciPG_fskSaVu",
        "colab_type": "code",
        "outputId": "a98ba520-5a1a-4bd1-b10e-009c33c037fb",
        "colab": {
          "base_uri": "https://localhost:8080/",
          "height": 34
        }
      },
      "cell_type": "code",
      "source": [
        "print(\"layer_fc1=\",layer_fc1)"
      ],
      "execution_count": 0,
      "outputs": [
        {
          "output_type": "stream",
          "text": [
            "layer_fc1= Tensor(\"Relu_8:0\", shape=(?, 128), dtype=float32)\n"
          ],
          "name": "stdout"
        }
      ]
    },
    {
      "metadata": {
        "id": "GrIuTIvvTiHO",
        "colab_type": "code",
        "colab": {}
      },
      "cell_type": "code",
      "source": [
        "#fc2\n",
        "layer_fc2=fc_layer(input=layer_fc1, num_inputs=fc_layer_size, num_outputs=num_classes, use_relu=False)"
      ],
      "execution_count": 0,
      "outputs": []
    },
    {
      "metadata": {
        "id": "RVER0-o5VMl-",
        "colab_type": "code",
        "outputId": "8febe66f-e0a9-4984-83f4-22a0be1bda81",
        "colab": {
          "base_uri": "https://localhost:8080/",
          "height": 34
        }
      },
      "cell_type": "code",
      "source": [
        "print(\"layer_fc2=\",layer_fc2)"
      ],
      "execution_count": 0,
      "outputs": [
        {
          "output_type": "stream",
          "text": [
            "layer_fc2= Tensor(\"add_11:0\", shape=(?, 10), dtype=float32)\n"
          ],
          "name": "stdout"
        }
      ]
    },
    {
      "metadata": {
        "id": "kGXLAQjMcv3T",
        "colab_type": "code",
        "colab": {}
      },
      "cell_type": "code",
      "source": [
        "y_pred=tf.nn.softmax(layer_fc2)"
      ],
      "execution_count": 0,
      "outputs": []
    },
    {
      "metadata": {
        "id": "8fSSPQq0c1XM",
        "colab_type": "code",
        "colab": {}
      },
      "cell_type": "code",
      "source": [
        "y_pred_cls=tf.argmax(y_pred,axis=1)"
      ],
      "execution_count": 0,
      "outputs": []
    },
    {
      "metadata": {
        "id": "Lm847DB1ZqDw",
        "colab_type": "code",
        "colab": {}
      },
      "cell_type": "code",
      "source": [
        "#cross_entropy\n",
        "cross_entropy=tf.nn.softmax_cross_entropy_with_logits(logits=layer_fc2,labels=y_true)"
      ],
      "execution_count": 0,
      "outputs": []
    },
    {
      "metadata": {
        "id": "OJvmLb6bak5n",
        "colab_type": "code",
        "colab": {}
      },
      "cell_type": "code",
      "source": [
        "\n",
        "#loss\n",
        "cost=tf.reduce_mean(cross_entropy)"
      ],
      "execution_count": 0,
      "outputs": []
    },
    {
      "metadata": {
        "id": "80vE63xNbA5-",
        "colab_type": "code",
        "colab": {}
      },
      "cell_type": "code",
      "source": [
        "#optimizer\n",
        "optimizer=tf.train.GradientDescentOptimizer(learning_rate=0.001).minimize(cost)"
      ],
      "execution_count": 0,
      "outputs": []
    },
    {
      "metadata": {
        "id": "cIXgnBztbeVX",
        "colab_type": "code",
        "colab": {}
      },
      "cell_type": "code",
      "source": [
        "#correct_prediction\n",
        "correct_prediction=tf.equal(y_pred_cls,y_true_cls)"
      ],
      "execution_count": 0,
      "outputs": []
    },
    {
      "metadata": {
        "id": "FytX0BMAb9ej",
        "colab_type": "code",
        "colab": {}
      },
      "cell_type": "code",
      "source": [
        "#accuracy\n",
        "accuracy=tf.reduce_mean(tf.cast(correct_prediction,tf.float32))"
      ],
      "execution_count": 0,
      "outputs": []
    },
    {
      "metadata": {
        "id": "6jTRqqeHdT5-",
        "colab_type": "code",
        "colab": {}
      },
      "cell_type": "code",
      "source": [
        "sess=tf.Session()\n",
        "init=sess.run(tf.global_variables_initializer())\n"
      ],
      "execution_count": 0,
      "outputs": []
    },
    {
      "metadata": {
        "id": "JU9eS3fhfVy0",
        "colab_type": "code",
        "colab": {}
      },
      "cell_type": "code",
      "source": [
        "train_batch_size=64"
      ],
      "execution_count": 0,
      "outputs": []
    },
    {
      "metadata": {
        "id": "L4abgqprfqYM",
        "colab_type": "code",
        "colab": {}
      },
      "cell_type": "code",
      "source": [
        "total_iterations = 0\n",
        "\n",
        "def optimize(num_iterations):\n",
        "  global total_iterations\n",
        "  for i in range(total_iterations, total_iterations+num_iterations):\n",
        "    x_batch,y_true_batch,_=data.random_batch(batch_size=train_batch_size)\n",
        "    feed_dict_train={x:x_batch,y_true:y_true_batch}\n",
        "    sess.run(optimizer,feed_dict=feed_dict_train)\n",
        "    if(i%100==0):\n",
        "      acc=sess.run(accuracy,feed_dict=feed_dict_train)\n",
        "      print(\"optimization iteration:{0:>6},training accuracy:{1:>6.1%}\".format(i+1,acc))\n",
        "      #print(\"loss:{}\".format(cost))\n",
        "  total_iterations += num_iterations"
      ],
      "execution_count": 0,
      "outputs": []
    },
    {
      "metadata": {
        "id": "aEeRalwyPbSX",
        "colab_type": "code",
        "colab": {}
      },
      "cell_type": "code",
      "source": [
        ")def plot_example_errors(cls_pred, uwant):\n",
        "    \n",
        "    #to check whether predicted class == true class\n",
        "    #if correct = false it will show errors of test set images predicted wrong\n",
        "    \n",
        "    \n",
        "    images = data.x_test[uwant]\n",
        "     \n",
        "    cls_pred = cls_pred[uwant]\n",
        "\n",
        "    cls_true = data.y_test_cls[uwant]\n",
        "    \n",
        "    plot_images(images=images[0:9],\n",
        "                cls_true=cls_true[0:9],\n",
        "                cls_pred=cls_pred[0:9])"
      ],
      "execution_count": 0,
      "outputs": []
    },
    {
      "metadata": {
        "id": "tz4-KuJ1jugW",
        "colab_type": "code",
        "outputId": "11ab6d64-a233-44f3-aa24-a251667e2402",
        "colab": {
          "base_uri": "https://localhost:8080/",
          "height": 1580
        }
      },
      "cell_type": "code",
      "source": [
        "optimize(num_iterations=9000)"
      ],
      "execution_count": 0,
      "outputs": [
        {
          "output_type": "stream",
          "text": [
            "optimization iteration:     1,training accuracy: 17.2%\n",
            "optimization iteration:   101,training accuracy: 12.5%\n",
            "optimization iteration:   201,training accuracy: 15.6%\n",
            "optimization iteration:   301,training accuracy: 18.8%\n",
            "optimization iteration:   401,training accuracy: 21.9%\n",
            "optimization iteration:   501,training accuracy: 21.9%\n",
            "optimization iteration:   601,training accuracy: 28.1%\n",
            "optimization iteration:   701,training accuracy: 37.5%\n",
            "optimization iteration:   801,training accuracy: 32.8%\n",
            "optimization iteration:   901,training accuracy: 34.4%\n",
            "optimization iteration:  1001,training accuracy: 28.1%\n",
            "optimization iteration:  1101,training accuracy: 54.7%\n",
            "optimization iteration:  1201,training accuracy: 45.3%\n",
            "optimization iteration:  1301,training accuracy: 56.2%\n",
            "optimization iteration:  1401,training accuracy: 59.4%\n",
            "optimization iteration:  1501,training accuracy: 51.6%\n",
            "optimization iteration:  1601,training accuracy: 46.9%\n",
            "optimization iteration:  1701,training accuracy: 46.9%\n",
            "optimization iteration:  1801,training accuracy: 51.6%\n",
            "optimization iteration:  1901,training accuracy: 64.1%\n",
            "optimization iteration:  2001,training accuracy: 54.7%\n",
            "optimization iteration:  2101,training accuracy: 54.7%\n",
            "optimization iteration:  2201,training accuracy: 56.2%\n",
            "optimization iteration:  2301,training accuracy: 59.4%\n",
            "optimization iteration:  2401,training accuracy: 67.2%\n",
            "optimization iteration:  2501,training accuracy: 67.2%\n",
            "optimization iteration:  2601,training accuracy: 62.5%\n",
            "optimization iteration:  2701,training accuracy: 85.9%\n",
            "optimization iteration:  2801,training accuracy: 79.7%\n",
            "optimization iteration:  2901,training accuracy: 76.6%\n",
            "optimization iteration:  3001,training accuracy: 76.6%\n",
            "optimization iteration:  3101,training accuracy: 71.9%\n",
            "optimization iteration:  3201,training accuracy: 76.6%\n",
            "optimization iteration:  3301,training accuracy: 81.2%\n",
            "optimization iteration:  3401,training accuracy: 79.7%\n",
            "optimization iteration:  3501,training accuracy: 82.8%\n",
            "optimization iteration:  3601,training accuracy: 82.8%\n",
            "optimization iteration:  3701,training accuracy: 75.0%\n",
            "optimization iteration:  3801,training accuracy: 84.4%\n",
            "optimization iteration:  3901,training accuracy: 89.1%\n",
            "optimization iteration:  4001,training accuracy: 87.5%\n",
            "optimization iteration:  4101,training accuracy: 89.1%\n",
            "optimization iteration:  4201,training accuracy: 85.9%\n",
            "optimization iteration:  4301,training accuracy: 85.9%\n",
            "optimization iteration:  4401,training accuracy: 81.2%\n",
            "optimization iteration:  4501,training accuracy: 84.4%\n",
            "optimization iteration:  4601,training accuracy: 85.9%\n",
            "optimization iteration:  4701,training accuracy: 85.9%\n",
            "optimization iteration:  4801,training accuracy: 89.1%\n",
            "optimization iteration:  4901,training accuracy: 89.1%\n",
            "optimization iteration:  5001,training accuracy: 93.8%\n",
            "optimization iteration:  5101,training accuracy: 81.2%\n",
            "optimization iteration:  5201,training accuracy: 87.5%\n",
            "optimization iteration:  5301,training accuracy: 93.8%\n",
            "optimization iteration:  5401,training accuracy: 90.6%\n",
            "optimization iteration:  5501,training accuracy: 92.2%\n",
            "optimization iteration:  5601,training accuracy: 84.4%\n",
            "optimization iteration:  5701,training accuracy: 93.8%\n",
            "optimization iteration:  5801,training accuracy: 93.8%\n",
            "optimization iteration:  5901,training accuracy: 87.5%\n",
            "optimization iteration:  6001,training accuracy: 92.2%\n",
            "optimization iteration:  6101,training accuracy: 95.3%\n",
            "optimization iteration:  6201,training accuracy: 93.8%\n",
            "optimization iteration:  6301,training accuracy: 89.1%\n",
            "optimization iteration:  6401,training accuracy: 92.2%\n",
            "optimization iteration:  6501,training accuracy: 96.9%\n",
            "optimization iteration:  6601,training accuracy: 92.2%\n",
            "optimization iteration:  6701,training accuracy:100.0%\n",
            "optimization iteration:  6801,training accuracy: 95.3%\n",
            "optimization iteration:  6901,training accuracy: 96.9%\n",
            "optimization iteration:  7001,training accuracy: 89.1%\n",
            "optimization iteration:  7101,training accuracy: 90.6%\n",
            "optimization iteration:  7201,training accuracy: 92.2%\n",
            "optimization iteration:  7301,training accuracy: 90.6%\n",
            "optimization iteration:  7401,training accuracy: 95.3%\n",
            "optimization iteration:  7501,training accuracy: 98.4%\n",
            "optimization iteration:  7601,training accuracy: 89.1%\n",
            "optimization iteration:  7701,training accuracy: 93.8%\n",
            "optimization iteration:  7801,training accuracy: 92.2%\n",
            "optimization iteration:  7901,training accuracy: 90.6%\n",
            "optimization iteration:  8001,training accuracy: 96.9%\n",
            "optimization iteration:  8101,training accuracy: 95.3%\n",
            "optimization iteration:  8201,training accuracy: 96.9%\n",
            "optimization iteration:  8301,training accuracy: 96.9%\n",
            "optimization iteration:  8401,training accuracy: 93.8%\n",
            "optimization iteration:  8501,training accuracy: 95.3%\n",
            "optimization iteration:  8601,training accuracy: 95.3%\n",
            "optimization iteration:  8701,training accuracy: 95.3%\n",
            "optimization iteration:  8801,training accuracy: 90.6%\n",
            "optimization iteration:  8901,training accuracy: 95.3%\n"
          ],
          "name": "stdout"
        }
      ]
    },
    {
      "metadata": {
        "id": "kyMjb08Pj_3x",
        "colab_type": "code",
        "colab": {}
      },
      "cell_type": "code",
      "source": [
        "#test_data_performance\n",
        "\n",
        "test_batch_size=256\n",
        "def print_test_accuracy():\n",
        "  num_test=data.num_test\n",
        "  cls_pred=np.zeros(shape=num_test,dtype=np.int)\n",
        "  \n",
        "  #working on test_batch_size\n",
        "  #starting index of next batch at i\n",
        "  i=0\n",
        "  \n",
        "  while(i<num_test):\n",
        "     # The ending index for the next batch is denoted j\n",
        "      j=min(i+test_batch_size,num_test)\n",
        "      #get images and labels of particular test_batch\n",
        "      images= data.x_test[i:j,:]\n",
        "      labels=data.y_test[i:j,:]\n",
        "      \n",
        "      #calculate predicted class\n",
        "      cls_pred[i:j]= sess.run(y_pred_cls,feed_dict={x:images, y_true:labels})\n",
        "      \n",
        "      #set the start index fro the next batch\n",
        "      #end index of current batch\n",
        "      i=j\n",
        "      \n",
        "  cls_true=data.y_test_cls\n",
        "  \n",
        "  correct=(cls_true==cls_pred)\n",
        "  incorrect=(cls_true!=cls_pred)\n",
        "  #sum of correctly classified images\n",
        "  correct_sum =correct.sum()\n",
        "  \n",
        "  acc=float(correct_sum)/num_test\n",
        "  \n",
        "  print(\"accuracy on testset:{0:.1%} ({1}/{2})\".format(acc,correct_sum,num_test))\n",
        "  print(\"correct prediction::\")\n",
        "  plot_example_errors(cls_pred=cls_pred, uwant=correct)\n",
        "  print(\"incorrect prediction::\")\n",
        "  plot_example_errors(cls_pred=cls_pred, uwant=incorrect)\n"
      ],
      "execution_count": 0,
      "outputs": []
    },
    {
      "metadata": {
        "id": "-Ubh7d-os6x6",
        "colab_type": "code",
        "outputId": "f340546e-3c0a-414d-bfe7-09c5929bf275",
        "colab": {
          "base_uri": "https://localhost:8080/",
          "height": 723
        }
      },
      "cell_type": "code",
      "source": [
        "print_test_accuracy()"
      ],
      "execution_count": 0,
      "outputs": [
        {
          "output_type": "stream",
          "text": [
            "accuracy on testset:7.0% (701/10000)\n",
            "correct prediction::\n"
          ],
          "name": "stdout"
        },
        {
          "output_type": "display_data",
          "data": {
            "image/png": "[encoded data removed]",
            "text/plain": [
              "<Figure size 576x396 with 9 Axes>"
            ]
          },
          "metadata": {
            "tags": []
          }
        },
        {
          "output_type": "stream",
          "text": [
            "incorrect prediction::\n"
          ],
          "name": "stdout"
        },
        {
          "output_type": "display_data",
          "data": {
            "image/png": "[encoded data removed]",
            "text/plain": [
              "<Figure size 576x396 with 9 Axes>"
            ]
          },
          "metadata": {
            "tags": []
          }
        }
      ]
    },
    {
      "metadata": {
        "id": "ocmfWZndYFVU",
        "colab_type": "code",
        "colab": {}
      },
      "cell_type": "code",
      "source": [
        "\n",
        "#plot weights\n",
        "import math\n",
        "def plot_conv_weights(weights, input_channel=0):\n",
        "   \n",
        "    w = sess.run(weights)\n",
        "\n",
        "    # lowest and highest values for the weights.to corect colour intensity across images so they can be compared\n",
        "  \n",
        "    w_min = np.min(w)\n",
        "    w_max = np.max(w)\n",
        "\n",
        "    # No. of filters used in the convlayer\n",
        "    num_filters = w.shape[3]\n",
        "\n",
        "    # Number of grids to plot\n",
        "    # Rounded-up, square-root of the number of filters\n",
        "    num_grids = math.ceil(math.sqrt(num_filters))\n",
        "    \n",
        "    # Create figure with a grid of sub-plots\n",
        "    fig, axes = plt.subplots(num_grids, num_grids)\n",
        "\n",
        "    # Plot all the filter-weights\n",
        "    for i, ax in enumerate(axes.flat):\n",
        "        # Only plot the valid filter-weights\n",
        "        if i<num_filters:\n",
        "            # Get the weights for the i filter of the input channel\n",
        "           \n",
        "            img = w[:, :, input_channel, i]\n",
        "\n",
        "            ax.imshow(img, vmin=w_min, vmax=w_max,\n",
        "                      interpolation='nearest',cmap='gray')# cmap='seismic')\n",
        "        \n",
        "        ax.set_xticks([])\n",
        "        ax.set_yticks([])\n",
        "   \n",
        "    plt.show()"
      ],
      "execution_count": 0,
      "outputs": []
    },
    {
      "metadata": {
        "id": "MbaIJfnMaweW",
        "colab_type": "code",
        "colab": {}
      },
      "cell_type": "code",
      "source": [
        "#plot convlayer\n",
        "def plot_conv_layer(layer, image):\n",
        "   \n",
        "    feed_dict0 = {x: [image]}\n",
        "\n",
        "    values = sess.run(layer, feed_dict=feed_dict0)\n",
        "\n",
        "    num_filters = values.shape[3]\n",
        "\n",
        "    num_grids = math.ceil(math.sqrt(num_filters))\n",
        "   \n",
        "    fig, axes = plt.subplots(num_grids, num_grids)\n",
        "\n",
        "    for i, ax in enumerate(axes.flat):\n",
        "        if i<num_filters:\n",
        "            img = values[0, :, :, i]\n",
        "            ax.imshow(img, interpolation='nearest', cmap='gray')\n",
        "     \n",
        "        ax.set_xticks([])\n",
        "        ax.set_yticks([])\n",
        "    \n",
        "    plt.show()"
      ],
      "execution_count": 0,
      "outputs": []
    },
    {
      "metadata": {
        "id": "1g60ltfPaz_6",
        "colab_type": "code",
        "outputId": "d9cf3d93-0300-4886-e654-4bb63b199e67",
        "colab": {
          "base_uri": "https://localhost:8080/",
          "height": 330
        }
      },
      "cell_type": "code",
      "source": [
        "plot_conv_weights(weights=weights_conv1)"
      ],
      "execution_count": 0,
      "outputs": [
        {
          "output_type": "display_data",
          "data": {
            "image/png": "[encoded data removed]",
            "text/plain": [
              "<Figure size 576x396 with 16 Axes>"
            ]
          },
          "metadata": {
            "tags": []
          }
        }
      ]
    },
    {
      "metadata": {
        "id": "c9EA-aPPb8eT",
        "colab_type": "code",
        "colab": {}
      },
      "cell_type": "code",
      "source": [
        "def plot_image(image):\n",
        "    plt.imshow(image.reshape(img_shape),\n",
        "               interpolation='nearest',\n",
        "               cmap='gray')\n",
        "    plt.axis('off')\n",
        "\n",
        "    plt.show()"
      ],
      "execution_count": 0,
      "outputs": []
    },
    {
      "metadata": {
        "id": "WsJRDaCFa3Xu",
        "colab_type": "code",
        "outputId": "f326bba6-b19d-4941-a39c-7e755e5b3c36",
        "colab": {
          "base_uri": "https://localhost:8080/",
          "height": 347
        }
      },
      "cell_type": "code",
      "source": [
        "image1 = data.x_test[0]\n",
        "plot_image(image1)\n"
      ],
      "execution_count": 0,
      "outputs": [
        {
          "output_type": "display_data",
          "data": {
            "image/png": "[encoded data removed]",
            "text/plain": [
              "<Figure size 576x396 with 1 Axes>"
            ]
          },
          "metadata": {
            "tags": []
          }
        }
      ]
    },
    {
      "metadata": {
        "id": "S1lBYh7DbhlE",
        "colab_type": "code",
        "outputId": "268e3d59-6670-45e7-aaea-a7ef789d8855",
        "colab": {
          "base_uri": "https://localhost:8080/",
          "height": 330
        }
      },
      "cell_type": "code",
      "source": [
        "plot_conv_layer(layer=layer_conv1, image=image1)"
      ],
      "execution_count": 0,
      "outputs": [
        {
          "output_type": "display_data",
          "data": {
            "image/png": "[encoded data removed]",
            "text/plain": [
              "<Figure size 576x396 with 16 Axes>"
            ]
          },
          "metadata": {
            "tags": []
          }
        }
      ]
    },
    {
      "metadata": {
        "id": "Qh-fJchucKrG",
        "colab_type": "code",
        "outputId": "4370a465-b048-4217-bbe0-1ff309d57119",
        "colab": {
          "base_uri": "https://localhost:8080/",
          "height": 347
        }
      },
      "cell_type": "code",
      "source": [
        "image1 = data.x_test[90]\n",
        "plot_image(image1)"
      ],
      "execution_count": 0,
      "outputs": [
        {
          "output_type": "display_data",
          "data": {
            "image/png": "[encoded data removed]",
            "text/plain": [
              "<Figure size 576x396 with 1 Axes>"
            ]
          },
          "metadata": {
            "tags": []
          }
        }
      ]
    },
    {
      "metadata": {
        "id": "msXQKOopcWC6",
        "colab_type": "code",
        "outputId": "0afa41dc-e1b7-4646-d037-ed43a1557381",
        "colab": {
          "base_uri": "https://localhost:8080/",
          "height": 330
        }
      },
      "cell_type": "code",
      "source": [
        "plot_conv_layer(layer=layer_conv1, image=image1)"
      ],
      "execution_count": 0,
      "outputs": [
        {
          "output_type": "display_data",
          "data": {
            "image/png": "[encoded data removed]",
            "text/plain": [
              "<Figure size 576x396 with 16 Axes>"
            ]
          },
          "metadata": {
            "tags": []
          }
        }
      ]
    }
  ]
}